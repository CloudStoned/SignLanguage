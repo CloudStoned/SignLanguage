{
 "cells": [
  {
   "cell_type": "code",
   "execution_count": null,
   "metadata": {},
   "outputs": [],
   "source": [
    "import torch\n",
    "import torch.nn as nn\n",
    "import torch.optim as optim\n",
    "from torch.utils.data import Dataset, DataLoader\n",
    "import torch.nn.functional as F  \n",
    "import numpy as np\n",
    "import json\n",
    "import os\n",
    "import cv2\n",
    "import mediapipe as mp\n",
    "from sklearn.preprocessing import LabelEncoder\n",
    "from sklearn.model_selection import train_test_split"
   ]
  },
  {
   "cell_type": "code",
   "execution_count": 1,
   "metadata": {},
   "outputs": [
    {
     "ename": "NameError",
     "evalue": "name 'torch' is not defined",
     "output_type": "error",
     "traceback": [
      "\u001b[1;31m---------------------------------------------------------------------------\u001b[0m",
      "\u001b[1;31mNameError\u001b[0m                                 Traceback (most recent call last)",
      "Cell \u001b[1;32mIn[1], line 1\u001b[0m\n\u001b[1;32m----> 1\u001b[0m device \u001b[38;5;241m=\u001b[39m \u001b[43mtorch\u001b[49m\u001b[38;5;241m.\u001b[39mdevice(\u001b[38;5;124m\"\u001b[39m\u001b[38;5;124mcuda\u001b[39m\u001b[38;5;124m\"\u001b[39m \u001b[38;5;28;01mif\u001b[39;00m torch\u001b[38;5;241m.\u001b[39mcuda\u001b[38;5;241m.\u001b[39mis_available() \u001b[38;5;28;01melse\u001b[39;00m \u001b[38;5;124m\"\u001b[39m\u001b[38;5;124mcpu\u001b[39m\u001b[38;5;124m\"\u001b[39m)\n\u001b[0;32m      3\u001b[0m \u001b[38;5;28mprint\u001b[39m(\u001b[38;5;124mf\u001b[39m\u001b[38;5;124m\"\u001b[39m\u001b[38;5;124mPyTorch version: \u001b[39m\u001b[38;5;132;01m{\u001b[39;00mtorch\u001b[38;5;241m.\u001b[39m__version__\u001b[38;5;132;01m}\u001b[39;00m\u001b[38;5;124m\"\u001b[39m)\n\u001b[0;32m      4\u001b[0m \u001b[38;5;28mprint\u001b[39m(\u001b[38;5;124mf\u001b[39m\u001b[38;5;124m\"\u001b[39m\u001b[38;5;124mCUDA available: \u001b[39m\u001b[38;5;132;01m{\u001b[39;00mtorch\u001b[38;5;241m.\u001b[39mcuda\u001b[38;5;241m.\u001b[39mis_available()\u001b[38;5;132;01m}\u001b[39;00m\u001b[38;5;124m\"\u001b[39m)\n",
      "\u001b[1;31mNameError\u001b[0m: name 'torch' is not defined"
     ]
    }
   ],
   "source": [
    "device = torch.device(\"cuda\" if torch.cuda.is_available() else \"cpu\")\n",
    "\n",
    "print(f\"PyTorch version: {torch.__version__}\")\n",
    "print(f\"CUDA available: {torch.cuda.is_available()}\")\n",
    "\n",
    "if torch.cuda.is_available():\n",
    "    print(f\"CUDA version: {torch.version.cuda}\")\n",
    "    print(f\"Device name: {torch.cuda.get_device_name(0)}\")\n",
    "    print(f\"Device count: {torch.cuda.device_count()}\")\n",
    "else:\n",
    "    print(\"CUDA is not available. Using CPU.\")"
   ]
  },
  {
   "cell_type": "code",
   "execution_count": null,
   "metadata": {},
   "outputs": [],
   "source": [
    "class HandGestureDataset(Dataset):\n",
    "    def __init__(self, data_dir):\n",
    "        self.data = []\n",
    "        self.labels = []\n",
    "        \n",
    "        for class_name in os.listdir(data_dir):\n",
    "            class_dir = os.path.join(data_dir, class_name)\n",
    "            if os.path.isdir(class_dir):\n",
    "                for file_name in os.listdir(class_dir):\n",
    "                    if file_name.endswith('.json'):\n",
    "                        file_path = os.path.join(class_dir, file_name)\n",
    "                        with open(file_path, 'r') as f:\n",
    "                            landmarks = json.load(f)\n",
    "                        self.data.append(np.array(landmarks).flatten())\n",
    "                        self.labels.append(class_name)\n",
    "        \n",
    "        self.data = torch.tensor(self.data, dtype=torch.float32)\n",
    "        self.label_encoder = LabelEncoder()\n",
    "        self.encoded_labels = self.label_encoder.fit_transform(self.labels)\n",
    "        self.labels = torch.tensor(self.encoded_labels, dtype=torch.long)\n",
    "        \n",
    "        self.idx_to_label = {i: label for i, label in enumerate(self.label_encoder.classes_)}\n",
    "\n",
    "    def __len__(self):\n",
    "        return len(self.data)\n",
    "\n",
    "    def __getitem__(self, idx):\n",
    "        return self.data[idx], self.labels[idx]\n",
    "\n",
    "    def get_label_encoder(self):\n",
    "        return self.label_encoder\n",
    "\n",
    "    def get_class_distribution(self):\n",
    "        return Counter(self.encoded_labels)"
   ]
  },
  {
   "cell_type": "code",
   "execution_count": null,
   "metadata": {},
   "outputs": [],
   "source": [
    "class HandGestureModel(nn.Module):\n",
    "    def __init__(self, input_size, hidden_size, num_classes, dropout_rate=0.5):\n",
    "        super(HandGestureModel, self).__init__()\n",
    "        self.fc1 = nn.Linear(input_size, hidden_size)\n",
    "        self.bn1 = nn.BatchNorm1d(hidden_size)\n",
    "        self.fc2 = nn.Linear(hidden_size, hidden_size // 2)\n",
    "        self.bn2 = nn.BatchNorm1d(hidden_size // 2)\n",
    "        self.fc3 = nn.Linear(hidden_size // 2, num_classes)\n",
    "        self.relu = nn.ReLU()\n",
    "        self.dropout = nn.Dropout(dropout_rate)\n",
    "\n",
    "    def forward(self, x):\n",
    "        x = self.fc1(x)\n",
    "        x = self.bn1(x)\n",
    "        x = self.relu(x)\n",
    "        x = self.dropout(x)\n",
    "        x = self.fc2(x)\n",
    "        x = self.bn2(x)\n",
    "        x = self.relu(x)\n",
    "        x = self.dropout(x)\n",
    "        x = self.fc3(x)\n",
    "        return x"
   ]
  },
  {
   "cell_type": "markdown",
   "metadata": {},
   "source": [
    "#### Train functions"
   ]
  },
  {
   "cell_type": "code",
   "execution_count": null,
   "metadata": {},
   "outputs": [],
   "source": [
    "def train_step(model: torch.nn.Module, \n",
    "               dataloader: torch.utils.data.DataLoader, \n",
    "               loss_fn: torch.nn.Module, \n",
    "               optimizer: torch.optim.Optimizer):\n",
    "    \n",
    "    # Put model in train mode\n",
    "    model.train()\n",
    "    \n",
    "    # Setup train loss and train accuracy values\n",
    "    train_loss, train_acc = 0, 0\n",
    "    \n",
    "    # Loop through data loader data batches\n",
    "    for batch, (X, y) in enumerate(dataloader):\n",
    "        # Send data to target device\n",
    "        X, y = X.to(device), y.to(device)\n",
    "\n",
    "        # 1. Forward pass\n",
    "        y_pred = model(X)\n",
    "\n",
    "        # 2. Calculate  and accumulate loss\n",
    "        loss = loss_fn(y_pred, y)\n",
    "        train_loss += loss.item() \n",
    "\n",
    "        # 3. Optimizer zero grad\n",
    "        optimizer.zero_grad()\n",
    "\n",
    "        # 4. Loss backward\n",
    "        loss.backward()\n",
    "\n",
    "        # 5. Optimizer step\n",
    "        optimizer.step()\n",
    "\n",
    "        # Calculate and accumulate accuracy metric across all batches\n",
    "        y_pred_class = torch.argmax(torch.softmax(y_pred, dim=1), dim=1)\n",
    "        train_acc += (y_pred_class == y).sum().item()/len(y_pred)\n",
    "\n",
    "    # Adjust metrics to get average loss and accuracy per batch \n",
    "    train_loss = train_loss / len(dataloader)\n",
    "    train_acc = train_acc / len(dataloader)\n",
    "    return train_loss, train_acc"
   ]
  },
  {
   "cell_type": "code",
   "execution_count": null,
   "metadata": {},
   "outputs": [],
   "source": [
    "def test_step(model: torch.nn.Module, \n",
    "              dataloader: torch.utils.data.DataLoader, \n",
    "              loss_fn: torch.nn.Module):\n",
    "    # Put model in eval mode\n",
    "    model.eval() \n",
    "    \n",
    "    # Setup test loss and test accuracy values\n",
    "    test_loss, test_acc = 0, 0\n",
    "    \n",
    "    # Turn on inference context manager\n",
    "    with torch.inference_mode():\n",
    "        # Loop through DataLoader batches\n",
    "        for batch, (X, y) in enumerate(dataloader):\n",
    "            # Send data to target device\n",
    "            X, y = X.to(device), y.to(device)\n",
    "    \n",
    "            # 1. Forward pass\n",
    "            test_pred_logits = model(X)\n",
    "\n",
    "            # 2. Calculate and accumulate loss\n",
    "            loss = loss_fn(test_pred_logits, y)\n",
    "            test_loss += loss.item()\n",
    "            \n",
    "            # Calculate and accumulate accuracy\n",
    "            test_pred_labels = test_pred_logits.argmax(dim=1)\n",
    "            test_acc += ((test_pred_labels == y).sum().item()/len(test_pred_labels))\n",
    "            \n",
    "    # Adjust metrics to get average loss and accuracy per batch \n",
    "    test_loss = test_loss / len(dataloader)\n",
    "    test_acc = test_acc / len(dataloader)\n",
    "    return test_loss, test_acc"
   ]
  },
  {
   "cell_type": "code",
   "execution_count": null,
   "metadata": {},
   "outputs": [],
   "source": [
    "from tqdm.auto import tqdm\n",
    "import copy\n",
    "import time\n",
    "import numpy as np\n",
    "\n",
    "def train(model, train_dataloader, test_dataloader, optimizer, loss_fn, epochs, scheduler, patience):\n",
    "    results = {\"train_loss\": [], \"train_acc\": [], \"test_loss\": [], \"test_acc\": []}\n",
    "    best_loss_accuracy = np.inf\n",
    "    best_test_accuracy = 0\n",
    "    best_model_wts = copy.deepcopy(model.state_dict())\n",
    "    early_stopping_counter = 0\n",
    "    since = time.time()\n",
    "    \n",
    "    for epoch in tqdm(range(epochs)):\n",
    "        model.train()\n",
    "        train_loss, train_acc = train_step(model, train_dataloader, loss_fn, optimizer)\n",
    "        model.eval()\n",
    "        test_loss, test_acc = test_step(model, test_dataloader, loss_fn)\n",
    "        \n",
    "        if scheduler:\n",
    "            scheduler.step(test_loss)\n",
    "            \n",
    "        current_lr = optimizer.param_groups[0]['lr']\n",
    "        \n",
    "        print(f\"Epoch: {epoch+1} | train_loss: {train_loss:.4f} | train_acc: {train_acc:.4f} | test_loss: {test_loss:.4f} | test_acc: {test_acc:.4f} | lr: {current_lr:.6f}\")\n",
    "        \n",
    "        results[\"train_loss\"].append(train_loss)\n",
    "        results[\"train_acc\"].append(train_acc)\n",
    "        results[\"test_loss\"].append(test_loss)\n",
    "        results[\"test_acc\"].append(test_acc)\n",
    "        \n",
    "        if test_acc > best_test_accuracy:\n",
    "            best_test_accuracy = test_acc\n",
    "        \n",
    "        if test_loss < best_loss_accuracy:\n",
    "            best_loss_accuracy = test_loss\n",
    "            best_model_wts = copy.deepcopy(model.state_dict())\n",
    "            early_stopping_counter = 0\n",
    "            \n",
    "        else:\n",
    "            early_stopping_counter += 1\n",
    "            print(f'Early stopping counter: {early_stopping_counter} out of {patience}')\n",
    "            if early_stopping_counter >= patience:\n",
    "                print('Early stopping triggered.')\n",
    "                model.load_state_dict(best_model_wts)\n",
    "                time_elapsed = time.time() - since\n",
    "                print(f'Training completed in {time_elapsed // 60:.0f}m {time_elapsed % 60:.0f}s')\n",
    "                break\n",
    "    \n",
    "    # Load the best model weights before returning results\n",
    "    model.load_state_dict(best_model_wts)\n",
    "    return results"
   ]
  },
  {
   "cell_type": "markdown",
   "metadata": {},
   "source": [
    "### Load dataset"
   ]
  },
  {
   "cell_type": "code",
   "execution_count": null,
   "metadata": {},
   "outputs": [],
   "source": [
    "data_dir = r'D:\\SignLanguage\\NOTEBOOKS\\LANDMARKS'\n",
    "dataset = HandGestureDataset(data_dir)"
   ]
  },
  {
   "cell_type": "code",
   "execution_count": null,
   "metadata": {},
   "outputs": [],
   "source": [
    "class_distribution = dataset.get_class_distribution()\n",
    "print(\"Class distribution:\")\n",
    "for encoded_label, count in class_distribution.items():\n",
    "    class_name = dataset.idx_to_label[encoded_label]\n",
    "    print(f\"{class_name}: {count}\")"
   ]
  },
  {
   "cell_type": "code",
   "execution_count": null,
   "metadata": {},
   "outputs": [
    {
     "name": "stdout",
     "output_type": "stream",
     "text": [
      "\n",
      "Total number of samples: 6334\n",
      "Number of classes: 35\n",
      "Samples per class: min = 136, max = 200, average = 180.97\n"
     ]
    }
   ],
   "source": [
    "total_samples = len(dataset)\n",
    "num_classes = len(class_distribution)\n",
    "min_class_size = min(class_distribution.values())\n",
    "max_class_size = max(class_distribution.values())\n",
    "\n",
    "\n",
    "print(f\"\\nTotal number of samples: {total_samples}\")\n",
    "print(f\"Number of classes: {num_classes}\")\n",
    "print(f\"Samples per class: min = {min_class_size}, max = {max_class_size}, average = {total_samples/num_classes:.2f}\")"
   ]
  },
  {
   "cell_type": "code",
   "execution_count": 22,
   "metadata": {},
   "outputs": [
    {
     "data": {
      "text/plain": [
       "(<torch.utils.data.dataset.Subset at 0x2304d5735e0>,\n",
       " <torch.utils.data.dataset.Subset at 0x2304acb3a90>)"
      ]
     },
     "execution_count": 22,
     "metadata": {},
     "output_type": "execute_result"
    }
   ],
   "source": [
    "train_size = int(0.8 * len(dataset))\n",
    "test_size = len(dataset) - train_size\n",
    "train_dataset, test_dataset = torch.utils.data.random_split(dataset, [train_size, test_size])\n",
    "\n",
    "train_dataset,test_dataset"
   ]
  },
  {
   "cell_type": "code",
   "execution_count": 24,
   "metadata": {},
   "outputs": [
    {
     "data": {
      "text/plain": [
       "(<torch.utils.data.dataloader.DataLoader at 0x2304d3c7310>,\n",
       " <torch.utils.data.dataloader.DataLoader at 0x2304d484d30>)"
      ]
     },
     "execution_count": 24,
     "metadata": {},
     "output_type": "execute_result"
    }
   ],
   "source": [
    "train_loader = DataLoader(train_dataset, batch_size=32, shuffle=True)\n",
    "test_loader = DataLoader(test_dataset, batch_size=32, shuffle=False)\n",
    "train_loader,test_loader"
   ]
  },
  {
   "cell_type": "markdown",
   "metadata": {},
   "source": [
    "### Training Phase"
   ]
  },
  {
   "cell_type": "code",
   "execution_count": 34,
   "metadata": {},
   "outputs": [
    {
     "name": "stderr",
     "output_type": "stream",
     "text": [
      "d:\\SignLanguage\\.venv\\lib\\site-packages\\torch\\optim\\lr_scheduler.py:28: UserWarning: The verbose parameter is deprecated. Please use get_last_lr() to access the learning rate.\n",
      "  warnings.warn(\"The verbose parameter is deprecated. Please use get_last_lr() \"\n"
     ]
    },
    {
     "data": {
      "application/vnd.jupyter.widget-view+json": {
       "model_id": "969db7731b6a40a89e7a95cb18210ceb",
       "version_major": 2,
       "version_minor": 0
      },
      "text/plain": [
       "  0%|          | 0/200 [00:00<?, ?it/s]"
      ]
     },
     "metadata": {},
     "output_type": "display_data"
    },
    {
     "name": "stdout",
     "output_type": "stream",
     "text": [
      "Epoch: 1 | train_loss: 3.4231 | train_acc: 0.0762 | test_loss: 2.9918 | test_acc: 0.1877 | lr: 0.001000\n",
      "Epoch: 2 | train_loss: 2.5435 | train_acc: 0.2232 | test_loss: 1.9525 | test_acc: 0.4602 | lr: 0.001000\n",
      "Epoch: 3 | train_loss: 1.8887 | train_acc: 0.3677 | test_loss: 1.4617 | test_acc: 0.5651 | lr: 0.001000\n",
      "Epoch: 4 | train_loss: 1.5753 | train_acc: 0.4480 | test_loss: 1.1813 | test_acc: 0.6809 | lr: 0.001000\n",
      "Epoch: 5 | train_loss: 1.3697 | train_acc: 0.5176 | test_loss: 0.9975 | test_acc: 0.7341 | lr: 0.001000\n",
      "Epoch: 6 | train_loss: 1.2070 | train_acc: 0.5732 | test_loss: 0.8498 | test_acc: 0.7776 | lr: 0.001000\n",
      "Epoch: 7 | train_loss: 1.0738 | train_acc: 0.6296 | test_loss: 0.7573 | test_acc: 0.8222 | lr: 0.001000\n",
      "Epoch: 8 | train_loss: 0.9745 | train_acc: 0.6588 | test_loss: 0.6441 | test_acc: 0.8458 | lr: 0.001000\n",
      "Epoch: 9 | train_loss: 0.8776 | train_acc: 0.6941 | test_loss: 0.5700 | test_acc: 0.8463 | lr: 0.001000\n",
      "Epoch: 10 | train_loss: 0.8287 | train_acc: 0.7109 | test_loss: 0.5581 | test_acc: 0.8450 | lr: 0.001000\n",
      "Epoch: 11 | train_loss: 0.7677 | train_acc: 0.7382 | test_loss: 0.5388 | test_acc: 0.8485 | lr: 0.001000\n",
      "Epoch: 12 | train_loss: 0.7228 | train_acc: 0.7571 | test_loss: 0.4406 | test_acc: 0.9108 | lr: 0.001000\n",
      "Epoch: 13 | train_loss: 0.6800 | train_acc: 0.7705 | test_loss: 0.4086 | test_acc: 0.9131 | lr: 0.001000\n",
      "Epoch: 14 | train_loss: 0.6262 | train_acc: 0.7897 | test_loss: 0.3756 | test_acc: 0.9208 | lr: 0.001000\n",
      "Epoch: 15 | train_loss: 0.6022 | train_acc: 0.7886 | test_loss: 0.3745 | test_acc: 0.9183 | lr: 0.001000\n",
      "Epoch: 16 | train_loss: 0.5698 | train_acc: 0.8122 | test_loss: 0.3385 | test_acc: 0.9304 | lr: 0.001000\n",
      "Epoch: 17 | train_loss: 0.5426 | train_acc: 0.8163 | test_loss: 0.3111 | test_acc: 0.9306 | lr: 0.001000\n",
      "Epoch: 18 | train_loss: 0.5153 | train_acc: 0.8359 | test_loss: 0.2979 | test_acc: 0.9312 | lr: 0.001000\n",
      "Epoch: 19 | train_loss: 0.4928 | train_acc: 0.8414 | test_loss: 0.2783 | test_acc: 0.9452 | lr: 0.001000\n",
      "Epoch: 20 | train_loss: 0.4786 | train_acc: 0.8426 | test_loss: 0.2662 | test_acc: 0.9401 | lr: 0.001000\n",
      "Epoch: 21 | train_loss: 0.4646 | train_acc: 0.8432 | test_loss: 0.2571 | test_acc: 0.9367 | lr: 0.001000\n",
      "Epoch: 22 | train_loss: 0.4491 | train_acc: 0.8499 | test_loss: 0.2367 | test_acc: 0.9505 | lr: 0.001000\n",
      "Epoch: 23 | train_loss: 0.4191 | train_acc: 0.8632 | test_loss: 0.2256 | test_acc: 0.9395 | lr: 0.001000\n",
      "Epoch: 24 | train_loss: 0.4227 | train_acc: 0.8622 | test_loss: 0.2167 | test_acc: 0.9438 | lr: 0.001000\n",
      "Epoch: 25 | train_loss: 0.3954 | train_acc: 0.8707 | test_loss: 0.2016 | test_acc: 0.9517 | lr: 0.001000\n",
      "Epoch: 26 | train_loss: 0.3876 | train_acc: 0.8705 | test_loss: 0.2001 | test_acc: 0.9475 | lr: 0.001000\n",
      "Epoch: 27 | train_loss: 0.3701 | train_acc: 0.8809 | test_loss: 0.2093 | test_acc: 0.9428 | lr: 0.001000\n",
      "Early stopping counter: 1 out of 6\n",
      "Epoch: 28 | train_loss: 0.3582 | train_acc: 0.8850 | test_loss: 0.1904 | test_acc: 0.9485 | lr: 0.001000\n",
      "Epoch: 29 | train_loss: 0.3555 | train_acc: 0.8844 | test_loss: 0.1792 | test_acc: 0.9564 | lr: 0.001000\n",
      "Epoch: 30 | train_loss: 0.3341 | train_acc: 0.8888 | test_loss: 0.1789 | test_acc: 0.9483 | lr: 0.001000\n",
      "Epoch: 31 | train_loss: 0.3364 | train_acc: 0.8907 | test_loss: 0.1708 | test_acc: 0.9583 | lr: 0.001000\n",
      "Epoch: 32 | train_loss: 0.3320 | train_acc: 0.8957 | test_loss: 0.1603 | test_acc: 0.9542 | lr: 0.001000\n",
      "Epoch: 33 | train_loss: 0.3152 | train_acc: 0.8998 | test_loss: 0.1617 | test_acc: 0.9546 | lr: 0.001000\n",
      "Early stopping counter: 1 out of 6\n",
      "Epoch: 34 | train_loss: 0.3179 | train_acc: 0.8974 | test_loss: 0.1483 | test_acc: 0.9621 | lr: 0.001000\n",
      "Epoch: 35 | train_loss: 0.2928 | train_acc: 0.9049 | test_loss: 0.1472 | test_acc: 0.9627 | lr: 0.001000\n",
      "Epoch: 36 | train_loss: 0.2886 | train_acc: 0.9061 | test_loss: 0.1402 | test_acc: 0.9607 | lr: 0.001000\n",
      "Epoch: 37 | train_loss: 0.2848 | train_acc: 0.9065 | test_loss: 0.1335 | test_acc: 0.9688 | lr: 0.001000\n",
      "Epoch: 38 | train_loss: 0.2744 | train_acc: 0.9103 | test_loss: 0.1243 | test_acc: 0.9709 | lr: 0.001000\n",
      "Epoch: 39 | train_loss: 0.2753 | train_acc: 0.9129 | test_loss: 0.1279 | test_acc: 0.9656 | lr: 0.001000\n",
      "Early stopping counter: 1 out of 6\n",
      "Epoch: 40 | train_loss: 0.2581 | train_acc: 0.9153 | test_loss: 0.1266 | test_acc: 0.9623 | lr: 0.001000\n",
      "Early stopping counter: 2 out of 6\n",
      "Epoch: 41 | train_loss: 0.2566 | train_acc: 0.9161 | test_loss: 0.1201 | test_acc: 0.9776 | lr: 0.001000\n",
      "Epoch: 42 | train_loss: 0.2591 | train_acc: 0.9175 | test_loss: 0.1146 | test_acc: 0.9678 | lr: 0.001000\n",
      "Epoch: 43 | train_loss: 0.2498 | train_acc: 0.9163 | test_loss: 0.1116 | test_acc: 0.9656 | lr: 0.001000\n",
      "Epoch: 44 | train_loss: 0.2421 | train_acc: 0.9228 | test_loss: 0.1072 | test_acc: 0.9737 | lr: 0.001000\n",
      "Epoch: 45 | train_loss: 0.2372 | train_acc: 0.9237 | test_loss: 0.1099 | test_acc: 0.9672 | lr: 0.001000\n",
      "Early stopping counter: 1 out of 6\n",
      "Epoch: 46 | train_loss: 0.2387 | train_acc: 0.9228 | test_loss: 0.0971 | test_acc: 0.9766 | lr: 0.001000\n",
      "Epoch: 47 | train_loss: 0.2291 | train_acc: 0.9251 | test_loss: 0.0950 | test_acc: 0.9831 | lr: 0.001000\n",
      "Epoch: 48 | train_loss: 0.2184 | train_acc: 0.9342 | test_loss: 0.0951 | test_acc: 0.9748 | lr: 0.001000\n",
      "Early stopping counter: 1 out of 6\n",
      "Epoch: 49 | train_loss: 0.2179 | train_acc: 0.9312 | test_loss: 0.1010 | test_acc: 0.9801 | lr: 0.001000\n",
      "Early stopping counter: 2 out of 6\n",
      "Epoch: 50 | train_loss: 0.2055 | train_acc: 0.9355 | test_loss: 0.0901 | test_acc: 0.9694 | lr: 0.001000\n",
      "Epoch: 51 | train_loss: 0.2078 | train_acc: 0.9359 | test_loss: 0.0896 | test_acc: 0.9788 | lr: 0.001000\n",
      "Epoch: 52 | train_loss: 0.2243 | train_acc: 0.9252 | test_loss: 0.0886 | test_acc: 0.9798 | lr: 0.001000\n",
      "Epoch: 53 | train_loss: 0.1982 | train_acc: 0.9371 | test_loss: 0.0789 | test_acc: 0.9839 | lr: 0.001000\n",
      "Epoch: 54 | train_loss: 0.1953 | train_acc: 0.9375 | test_loss: 0.0839 | test_acc: 0.9780 | lr: 0.001000\n",
      "Early stopping counter: 1 out of 6\n",
      "Epoch: 55 | train_loss: 0.1967 | train_acc: 0.9403 | test_loss: 0.0811 | test_acc: 0.9790 | lr: 0.001000\n",
      "Early stopping counter: 2 out of 6\n",
      "Epoch: 56 | train_loss: 0.1957 | train_acc: 0.9350 | test_loss: 0.0784 | test_acc: 0.9825 | lr: 0.001000\n",
      "Epoch: 57 | train_loss: 0.1828 | train_acc: 0.9397 | test_loss: 0.0813 | test_acc: 0.9776 | lr: 0.001000\n",
      "Early stopping counter: 1 out of 6\n",
      "Epoch: 58 | train_loss: 0.1863 | train_acc: 0.9377 | test_loss: 0.0730 | test_acc: 0.9809 | lr: 0.001000\n",
      "Epoch: 59 | train_loss: 0.1961 | train_acc: 0.9385 | test_loss: 0.0765 | test_acc: 0.9815 | lr: 0.001000\n",
      "Early stopping counter: 1 out of 6\n",
      "Epoch: 60 | train_loss: 0.1803 | train_acc: 0.9422 | test_loss: 0.0848 | test_acc: 0.9780 | lr: 0.001000\n",
      "Early stopping counter: 2 out of 6\n",
      "Epoch: 61 | train_loss: 0.1851 | train_acc: 0.9434 | test_loss: 0.0670 | test_acc: 0.9867 | lr: 0.001000\n",
      "Epoch: 62 | train_loss: 0.1834 | train_acc: 0.9407 | test_loss: 0.0676 | test_acc: 0.9817 | lr: 0.001000\n",
      "Early stopping counter: 1 out of 6\n",
      "Epoch: 63 | train_loss: 0.1848 | train_acc: 0.9414 | test_loss: 0.0675 | test_acc: 0.9798 | lr: 0.001000\n",
      "Early stopping counter: 2 out of 6\n",
      "Epoch: 64 | train_loss: 0.1687 | train_acc: 0.9467 | test_loss: 0.0614 | test_acc: 0.9858 | lr: 0.001000\n",
      "Epoch: 65 | train_loss: 0.1750 | train_acc: 0.9454 | test_loss: 0.0667 | test_acc: 0.9825 | lr: 0.001000\n",
      "Early stopping counter: 1 out of 6\n",
      "Epoch: 66 | train_loss: 0.1694 | train_acc: 0.9470 | test_loss: 0.0649 | test_acc: 0.9831 | lr: 0.001000\n",
      "Early stopping counter: 2 out of 6\n",
      "Epoch: 67 | train_loss: 0.1725 | train_acc: 0.9473 | test_loss: 0.0682 | test_acc: 0.9809 | lr: 0.001000\n",
      "Early stopping counter: 3 out of 6\n",
      "Epoch: 68 | train_loss: 0.1691 | train_acc: 0.9452 | test_loss: 0.0664 | test_acc: 0.9835 | lr: 0.001000\n",
      "Early stopping counter: 4 out of 6\n",
      "Epoch: 69 | train_loss: 0.1747 | train_acc: 0.9412 | test_loss: 0.0641 | test_acc: 0.9843 | lr: 0.001000\n",
      "Early stopping counter: 5 out of 6\n",
      "Epoch: 70 | train_loss: 0.1557 | train_acc: 0.9536 | test_loss: 0.0583 | test_acc: 0.9866 | lr: 0.001000\n",
      "Epoch: 71 | train_loss: 0.1632 | train_acc: 0.9466 | test_loss: 0.0605 | test_acc: 0.9829 | lr: 0.001000\n",
      "Early stopping counter: 1 out of 6\n",
      "Epoch: 72 | train_loss: 0.1645 | train_acc: 0.9493 | test_loss: 0.0565 | test_acc: 0.9833 | lr: 0.001000\n",
      "Epoch: 73 | train_loss: 0.1633 | train_acc: 0.9476 | test_loss: 0.0529 | test_acc: 0.9870 | lr: 0.001000\n",
      "Epoch: 74 | train_loss: 0.1640 | train_acc: 0.9458 | test_loss: 0.0617 | test_acc: 0.9849 | lr: 0.001000\n",
      "Early stopping counter: 1 out of 6\n",
      "Epoch: 75 | train_loss: 0.1535 | train_acc: 0.9491 | test_loss: 0.0520 | test_acc: 0.9860 | lr: 0.001000\n",
      "Epoch: 76 | train_loss: 0.1517 | train_acc: 0.9491 | test_loss: 0.0592 | test_acc: 0.9837 | lr: 0.001000\n",
      "Early stopping counter: 1 out of 6\n",
      "Epoch: 77 | train_loss: 0.1575 | train_acc: 0.9499 | test_loss: 0.0673 | test_acc: 0.9796 | lr: 0.001000\n",
      "Early stopping counter: 2 out of 6\n",
      "Epoch: 78 | train_loss: 0.1540 | train_acc: 0.9480 | test_loss: 0.0533 | test_acc: 0.9841 | lr: 0.001000\n",
      "Early stopping counter: 3 out of 6\n",
      "Epoch: 79 | train_loss: 0.1376 | train_acc: 0.9558 | test_loss: 0.0544 | test_acc: 0.9862 | lr: 0.001000\n",
      "Early stopping counter: 4 out of 6\n",
      "Epoch: 80 | train_loss: 0.1546 | train_acc: 0.9499 | test_loss: 0.0484 | test_acc: 0.9892 | lr: 0.001000\n",
      "Epoch: 81 | train_loss: 0.1431 | train_acc: 0.9534 | test_loss: 0.0462 | test_acc: 0.9878 | lr: 0.001000\n",
      "Epoch: 82 | train_loss: 0.1411 | train_acc: 0.9589 | test_loss: 0.0546 | test_acc: 0.9878 | lr: 0.001000\n",
      "Early stopping counter: 1 out of 6\n",
      "Epoch: 83 | train_loss: 0.1461 | train_acc: 0.9534 | test_loss: 0.0477 | test_acc: 0.9884 | lr: 0.001000\n",
      "Early stopping counter: 2 out of 6\n",
      "Epoch: 84 | train_loss: 0.1475 | train_acc: 0.9562 | test_loss: 0.0501 | test_acc: 0.9866 | lr: 0.001000\n",
      "Early stopping counter: 3 out of 6\n",
      "Epoch: 85 | train_loss: 0.1432 | train_acc: 0.9538 | test_loss: 0.0485 | test_acc: 0.9849 | lr: 0.001000\n",
      "Early stopping counter: 4 out of 6\n",
      "Epoch: 86 | train_loss: 0.1484 | train_acc: 0.9534 | test_loss: 0.0488 | test_acc: 0.9876 | lr: 0.001000\n",
      "Early stopping counter: 5 out of 6\n",
      "Epoch: 87 | train_loss: 0.1274 | train_acc: 0.9583 | test_loss: 0.0470 | test_acc: 0.9896 | lr: 0.000100\n",
      "Early stopping counter: 6 out of 6\n",
      "Early stopping triggered.\n",
      "Training completed in 1m 4s\n"
     ]
    }
   ],
   "source": [
    "from torch.optim.lr_scheduler import ReduceLROnPlateau\n",
    "from torch import nn\n",
    "from torch.optim import Adam\n",
    "\n",
    "EARLY_STOPPING_PATIENCE = 6\n",
    "\n",
    "input_size = 63 \n",
    "hidden_size = 128\n",
    "num_classes = len(dataset.get_label_encoder().classes_)\n",
    "model = HandGestureModel(input_size, hidden_size, num_classes)\n",
    "\n",
    "criterion = nn.CrossEntropyLoss()\n",
    "optimizer = optim.Adam(model.parameters(), lr=0.001)\n",
    "\n",
    "num_epochs = 200\n",
    "device = torch.device(\"cuda\" if torch.cuda.is_available() else \"cpu\")\n",
    "model.to(device)\n",
    "\n",
    "criterion = nn.CrossEntropyLoss()\n",
    "optimizer = optim.Adam(model.parameters(), lr=0.001, weight_decay=1e-4)\n",
    "scheduler = optim.lr_scheduler.ReduceLROnPlateau(optimizer, 'min', patience=5, factor=0.1, verbose=True)\n",
    "\n",
    "trained_model = train(model, train_loader, train_loader, optimizer, loss_fn=criterion, epochs=num_epochs, scheduler=scheduler, patience=EARLY_STOPPING_PATIENCE)"
   ]
  },
  {
   "cell_type": "markdown",
   "metadata": {},
   "source": [
    "#### Loss Curve function"
   ]
  },
  {
   "cell_type": "code",
   "execution_count": 28,
   "metadata": {},
   "outputs": [],
   "source": [
    "import matplotlib.pyplot as plt\n",
    "\n",
    "def plot_loss_curves(results):\n",
    "    \"\"\"Plots training curves of a results dictionary.\n",
    "\n",
    "    Args:\n",
    "        results (dict): dictionary containing list of values, e.g.\n",
    "            {\"train_loss\": [...],\n",
    "             \"train_acc\": [...],\n",
    "             \"test_loss\": [...],\n",
    "             \"test_acc\": [...]}\n",
    "    \"\"\"\n",
    "    \n",
    "    # Get the loss values of the results dictionary (training and test)\n",
    "    loss = results['train_loss']\n",
    "    test_loss = results['test_loss']\n",
    "\n",
    "    # Get the accuracy values of the results dictionary (training and test)\n",
    "    accuracy = results['train_acc']\n",
    "    test_accuracy = results['test_acc']\n",
    "\n",
    "    # Figure out how many epochs there were\n",
    "    epochs = range(len(results['train_loss']))\n",
    "\n",
    "    # Setup a plot \n",
    "    plt.figure(figsize=(15, 7))\n",
    "\n",
    "    # Plot loss\n",
    "    plt.subplot(1, 2, 1)\n",
    "    plt.plot(epochs, loss, label='train_loss')\n",
    "    plt.plot(epochs, test_loss, label='test_loss')\n",
    "    plt.title('Loss')\n",
    "    plt.xlabel('Epochs')\n",
    "    plt.legend()\n",
    "\n",
    "    # Plot accuracy\n",
    "    plt.subplot(1, 2, 2)\n",
    "    plt.plot(epochs, accuracy, label='train_accuracy')\n",
    "    plt.plot(epochs, test_accuracy, label='test_accuracy')\n",
    "    plt.title('Accuracy')\n",
    "    plt.xlabel('Epochs')\n",
    "    plt.legend();"
   ]
  },
  {
   "cell_type": "markdown",
   "metadata": {},
   "source": [
    "#### Visualize Loss Curve"
   ]
  },
  {
   "cell_type": "code",
   "execution_count": 36,
   "metadata": {},
   "outputs": [
    {
     "data": {
      "image/png": "[encoded data removed]",
      "text/plain": [
       "<Figure size 1500x700 with 2 Axes>"
      ]
     },
     "metadata": {},
     "output_type": "display_data"
    }
   ],
   "source": [
    "plot_loss_curves(trained_model)"
   ]
  },
  {
   "cell_type": "code",
   "execution_count": null,
   "metadata": {},
   "outputs": [],
   "source": [
    "torch.save(model.state_dict(), 'models/landmark_model.pth')"
   ]
  },
  {
   "cell_type": "markdown",
   "metadata": {},
   "source": [
    "#### Evaluation"
   ]
  },
  {
   "cell_type": "code",
   "execution_count": 37,
   "metadata": {},
   "outputs": [
    {
     "name": "stdout",
     "output_type": "stream",
     "text": [
      "Test Accuracy: 98.82%\n"
     ]
    }
   ],
   "source": [
    "model.eval()\n",
    "with torch.no_grad():\n",
    "    correct = 0\n",
    "    total = 0\n",
    "    for batch_X, batch_y in test_loader:\n",
    "        batch_X, batch_y = batch_X.to(device), batch_y.to(device)\n",
    "        outputs = model(batch_X)\n",
    "        _, predicted = torch.max(outputs.data, 1)\n",
    "        total += batch_y.size(0)\n",
    "        correct += (predicted == batch_y).sum().item()\n",
    "\n",
    "print(f'Test Accuracy: {100 * correct / total:.2f}%')"
   ]
  },
  {
   "cell_type": "markdown",
   "metadata": {},
   "source": [
    "#### Extract landmarks from an image"
   ]
  },
  {
   "cell_type": "code",
   "execution_count": 67,
   "metadata": {},
   "outputs": [],
   "source": [
    "mp_hands = mp.solutions.hands\n",
    "hands = mp_hands.Hands(static_image_mode=True, max_num_hands=1, min_detection_confidence=0.5)"
   ]
  },
  {
   "cell_type": "code",
   "execution_count": 68,
   "metadata": {},
   "outputs": [],
   "source": [
    "def extract_landmarks(image_path):\n",
    "    if not os.path.exists(image_path):\n",
    "        print(f\"Error: The file {image_path} does not exist.\")\n",
    "        return None\n",
    "    \n",
    "    try:\n",
    "        image = cv2.imread(image_path)\n",
    "        if image is None:\n",
    "            print(f\"Error: Unable to read the image at {image_path}\")\n",
    "            print(\"This might be due to:\")\n",
    "            print(\"1. The file is not an image.\")\n",
    "            print(\"2. The file is corrupted.\")\n",
    "            print(\"3. OpenCV doesn't support the image format.\")\n",
    "            return None\n",
    "        \n",
    "        image_rgb = cv2.cvtColor(image, cv2.COLOR_BGR2RGB)\n",
    "        results = hands.process(image_rgb)\n",
    "        \n",
    "        if results.multi_hand_landmarks:\n",
    "            hand_landmarks = results.multi_hand_landmarks[0]\n",
    "            landmarks = [[lm.x, lm.y, lm.z] for lm in hand_landmarks.landmark]\n",
    "            return np.array(landmarks).flatten()\n",
    "        else:\n",
    "            print(\"No hand detected in the image.\")\n",
    "            return None\n",
    "    except Exception as e:\n",
    "        print(f\"An error occurred while processing the image: {str(e)}\")\n",
    "        return None"
   ]
  },
  {
   "cell_type": "code",
   "execution_count": 57,
   "metadata": {},
   "outputs": [],
   "source": [
    "def predict_gesture(image_path):\n",
    "    landmarks = extract_landmarks(image_path)\n",
    "    if landmarks is None:\n",
    "        return \"No hand detected or error in image processing\", 0.0\n",
    "    \n",
    "    model.eval()\n",
    "    with torch.no_grad():\n",
    "        input_tensor = torch.tensor(landmarks, dtype=torch.float32).unsqueeze(0).to(device)\n",
    "        output = model(input_tensor)\n",
    "        probabilities = F.softmax(output, dim=1)\n",
    "        confidence, predicted = torch.max(probabilities, 1)\n",
    "        predicted_class = dataset.get_label_encoder().inverse_transform(predicted.cpu().numpy())[0]\n",
    "        return predicted_class, confidence.item()"
   ]
  },
  {
   "cell_type": "code",
   "execution_count": 77,
   "metadata": {},
   "outputs": [
    {
     "name": "stdout",
     "output_type": "stream",
     "text": [
      "Error: The file D:\\SignLanguage\\NOTEBOOKS\\DATASET\\test\\5\\K_5 (49).jpg does not exist.\n",
      "Image: D:\\SignLanguage\\NOTEBOOKS\\DATASET\\test\\5\\K_5 (49).jpg\n",
      "Predicted class: No hand detected\n",
      "Confidence: 0.00%\n",
      "\n",
      "Debugging Information:\n",
      "1. Does the file exist? False\n",
      "4. OpenCV version: 4.10.0\n",
      "5. Working directory: d:\\SignLanguage\\NOTEBOOKS\n"
     ]
    }
   ],
   "source": [
    "image_path = r'D:\\SignLanguage\\NOTEBOOKS\\DATASET\\test\\5\\K_5 (49).jpg'\n",
    "\n",
    "try:\n",
    "    predicted_class, confidence = predict_gesture(image_path)\n",
    "    print(f\"Image: {image_path}\")\n",
    "    print(f\"Predicted class: {predicted_class}\")\n",
    "    print(f\"Confidence: {confidence:.2%}\")\n",
    "except Exception as e:\n",
    "    print(f\"An error occurred during prediction: {str(e)}\")\n",
    "\n",
    "print(\"\\nDebugging Information:\")\n",
    "print(f\"1. Does the file exist? {os.path.exists(image_path)}\")\n",
    "if os.path.exists(image_path):\n",
    "    print(f\"2. File size: {os.path.getsize(image_path)} bytes\")\n",
    "    print(f\"3. File permissions: {oct(os.stat(image_path).st_mode)[-3:]}\")\n",
    "print(\"4. OpenCV version:\", cv2.__version__)\n",
    "print(\"5. Working directory:\", os.getcwd())"
   ]
  }
 ],
 "metadata": {
  "kernelspec": {
   "display_name": ".venv",
   "language": "python",
   "name": "python3"
  },
  "language_info": {
   "codemirror_mode": {
    "name": "ipython",
    "version": 3
   },
   "file_extension": ".py",
   "mimetype": "text/x-python",
   "name": "python",
   "nbconvert_exporter": "python",
   "pygments_lexer": "ipython3",
   "version": "3.9.12"
  }
 },
 "nbformat": 4,
 "nbformat_minor": 2
}
