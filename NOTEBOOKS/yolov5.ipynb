{
 "cells": [
  {
   "cell_type": "code",
   "execution_count": 2,
   "metadata": {},
   "outputs": [
    {
     "data": {
      "text/plain": [
       "('DATASET/train', 'DATASET/test')"
      ]
     },
     "execution_count": 2,
     "metadata": {},
     "output_type": "execute_result"
    }
   ],
   "source": [
    "SPLITTED_DATASET = \"DATASET\"\n",
    "train_dir = \"DATASET/train\"\n",
    "test_dir  = \"DATASET/test\"\n",
    "\n",
    "train_dir,test_dir"
   ]
  },
  {
   "cell_type": "markdown",
   "metadata": {},
   "source": [
    "#### Visualize train_dir, test_dir"
   ]
  },
  {
   "cell_type": "code",
   "execution_count": null,
   "metadata": {},
   "outputs": [],
   "source": [
    "import random\n",
    "from pathlib import Path\n",
    "from PIL import Image\n",
    "import numpy as np\n",
    "import matplotlib.pyplot as plt\n",
    "\n",
    "# Set seed\n",
    "# random.seed(30) # <- try changing this and see what happens\n",
    "SPLITTED_DATASET = \"DATASET\"\n",
    "\n",
    "# Convert SAVE_DATASET_PATH to a Path object\n",
    "save_dataset_path = Path(SPLITTED_DATASET)\n",
    "\n",
    "# 1. Get all image paths (* means \"any combination\")\n",
    "image_extensions = [\"*.jpg\", \"*.jpeg\", \"*.JPG\", \"*.png\", \"*.PNG\"]\n",
    "image_path_list = []\n",
    "\n",
    "for ext in image_extensions:\n",
    "    image_path_list.extend(save_dataset_path.rglob(ext))\n",
    "\n",
    "# Check if the list is empty\n",
    "if not image_path_list:\n",
    "    print(\"No images found in the specified path.\")\n",
    "else:\n",
    "    # 2. Get random image path\n",
    "    random_image_path = random.choice(image_path_list)\n",
    "\n",
    "    # 3. Get image class from path name (the image class is the name of the directory where the image is stored)\n",
    "    image_class = random_image_path.parent.stem\n",
    "\n",
    "    # 4. Open image\n",
    "    img = Image.open(random_image_path)\n",
    "\n",
    "    # 5. Print metadata\n",
    "    print(f\"Random image path: {random_image_path}\")\n",
    "    print(f\"Image class: {image_class}\")\n",
    "    print(f\"Image height: {img.height}\") \n",
    "    print(f\"Image width: {img.width}\")\n",
    "    # img.show()  # Display the image\n",
    "\n",
    "    # Turn the image into an array\n",
    "    img_as_array = np.asarray(img)\n",
    "\n",
    "    # Plot the image with matplotlib\n",
    "    plt.figure(figsize=(10, 7))\n",
    "    plt.imshow(img_as_array)\n",
    "    plt.title(f\"Image class: {image_class} | Image shape: {img_as_array.shape} -> [height, width, color_channels]\")\n",
    "    plt.axis(False);"
   ]
  },
  {
   "cell_type": "markdown",
   "metadata": {},
   "source": [
    "#### Yolo"
   ]
  },
  {
   "cell_type": "code",
   "execution_count": null,
   "metadata": {},
   "outputs": [],
   "source": [
    "from ultralytics import YOLO\n",
    "import torch\n",
    "\n",
    "model = 'yolov8n-cls.pt'\n",
    "\n",
    "def load_model_on_cuda(model):\n",
    "    # Load the model\n",
    "    model = YOLO(model)\n",
    "    \n",
    "    # Check if CUDA is available\n",
    "    if torch.cuda.is_available():\n",
    "        device = torch.device('cuda')\n",
    "        model.to(device)\n",
    "        print(f\"Model moved to {device}\")\n",
    "    else:\n",
    "        device = torch.device('cpu')\n",
    "        print(f\"CUDA not available, using {device}\")\n",
    "\n",
    "    return model\n",
    "\n",
    "model = load_model_on_cuda(model)"
   ]
  }
 ],
 "metadata": {
  "kernelspec": {
   "display_name": ".venv",
   "language": "python",
   "name": "python3"
  },
  "language_info": {
   "codemirror_mode": {
    "name": "ipython",
    "version": 3
   },
   "file_extension": ".py",
   "mimetype": "text/x-python",
   "name": "python",
   "nbconvert_exporter": "python",
   "pygments_lexer": "ipython3",
   "version": "3.9.12"
  }
 },
 "nbformat": 4,
 "nbformat_minor": 2
}
