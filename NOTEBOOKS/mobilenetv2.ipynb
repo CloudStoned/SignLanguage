{
 "cells": [
  {
   "cell_type": "code",
   "execution_count": 1,
   "metadata": {},
   "outputs": [],
   "source": [
    "from modules.data_visualizer import ImageVisualizer\n",
    "from modules.data_loader import DataLoaderCreator\n",
    "from modules.data_prediction import ComprehensiveImagePredictor\n",
    "from modules.model_eval import ModelEvaluator\n",
    "from modules.model_performance import ModelPerformanceVisualizer\n",
    "from modules.model_trainer import ModelTrainer"
   ]
  },
  {
   "cell_type": "code",
   "execution_count": 2,
   "metadata": {},
   "outputs": [
    {
     "data": {
      "text/plain": [
       "('DATASET/train', 'DATASET/test')"
      ]
     },
     "execution_count": 2,
     "metadata": {},
     "output_type": "execute_result"
    }
   ],
   "source": [
    "SPLITTED_DATASET = \"DATASET\"\n",
    "train_dir = \"DATASET/train\"\n",
    "test_dir  = \"DATASET/test\"\n",
    "\n",
    "train_dir,test_dir\n",
    "\n",
    "visualizer = ImageVisualizer(SPLITTED_DATASET)\n",
    "visualizer.visualize_random_image()"
   ]
  },
  {
   "cell_type": "code",
   "execution_count": null,
   "metadata": {},
   "outputs": [],
   "source": [
    "import torch\n",
    "from torchvision import models\n",
    "from torchvision import transforms\n",
    "from torchvision.transforms import InterpolationMode\n",
    "from torch import nn\n",
    "\n",
    "weights = models.MobileNet_V2_Weights.DEFAULT\n",
    "\n",
    "print(f\"CUDA available: {torch.cuda.is_available()}\")\n",
    "\n",
    "if torch.cuda.is_available():\n",
    "    print(f\"CUDA version: {torch.version.cuda}\")\n",
    "    print(f\"Device name: {torch.cuda.get_device_name(0)}\")\n",
    "    print(f\"Device count: {torch.cuda.device_count()}\")\n",
    "else:\n",
    "    print(\"CUDA is not available. Using CPU.\")\n",
    "\n",
    "device = torch.device(\"cuda\" if torch.cuda.is_available() else \"cpu\")\n",
    "ASL_mobilenet = models.mobilenet_v2(weights=weights).to(device)"
   ]
  },
  {
   "cell_type": "code",
   "execution_count": null,
   "metadata": {},
   "outputs": [],
   "source": [
    "train_transforms = transforms.Compose([\n",
    "    transforms.Resize((232, 232), interpolation=InterpolationMode.BILINEAR),\n",
    "    transforms.RandomHorizontalFlip(p=0.5),\n",
    "    transforms.ToTensor(),\n",
    "    transforms.Normalize(mean=[0.485, 0.456, 0.406], std=[0.229, 0.224, 0.225])\n",
    "])\n",
    "\n",
    "test_transforms = transforms.Compose([\n",
    "    transforms.Resize((232, 232), interpolation=InterpolationMode.BILINEAR),\n",
    "    transforms.ToTensor(),\n",
    "    transforms.Normalize(mean=[0.485, 0.456, 0.406], std=[0.229, 0.224, 0.225])\n",
    "])\n",
    "\n",
    "visualizer.plot_transformed_images(train_transforms,n=3, seed=None)"
   ]
  },
  {
   "cell_type": "code",
   "execution_count": null,
   "metadata": {},
   "outputs": [],
   "source": [
    "from torch.optim.lr_scheduler import ReduceLROnPlateau\n",
    "\n",
    "for param in ASL_mobilenet.features.parameters():\n",
    "    param.requires_grad = False\n",
    "\n",
    "loader_creator = DataLoaderCreator(train_dir=train_dir,\n",
    "                                   test_dir=test_dir,\n",
    "                                   transform=train_transforms)\n",
    "\n",
    "train_dataloader, test_dataloader, class_names = loader_creator.create_dataloaders(batch_size=32)\n",
    "\n",
    "class_names_count = len(loader_creator.get_class_names())\n",
    "\n",
    "print(f\"Class names: {loader_creator.get_class_names()}\")\n",
    "print(f\"Class names Count: {class_names_count}\")\n",
    "\n",
    "trainer = ModelTrainer()\n",
    "\n",
    "NUM_EPOCHS = 2\n",
    "EARLY_STOPPING = 1\n",
    "LEARNING_RATE = 0.001\n",
    "\n",
    "ASL_mobilenet.classifier = torch.nn.Sequential(\n",
    "    torch.nn.Dropout(p=0.2, inplace=True), \n",
    "    torch.nn.Linear(in_features=1280, \n",
    "                    out_features=class_names_count,\n",
    "                    bias=True)).to(device)\n",
    "\n",
    "criterion = nn.CrossEntropyLoss()\n",
    "optimizer = torch.optim.Adam(params=ASL_mobilenet.parameters(), lr=LEARNING_RATE)\n",
    "scheduler = ReduceLROnPlateau(optimizer, mode='min', factor=0.1, patience=2)\n",
    "\n",
    "TRAINED_MODEL, RESULTS = trainer.train(\n",
    "    model=ASL_mobilenet,\n",
    "    train_loader=train_dataloader,\n",
    "    test_loader=test_dataloader,\n",
    "    optimizer=optimizer,\n",
    "    loss_fn=criterion,\n",
    "    epochs=NUM_EPOCHS,\n",
    "    scheduler=scheduler,\n",
    "    patience=EARLY_STOPPING \n",
    ")\n",
    "\n",
    "visualizer = ModelPerformanceVisualizer(RESULTS)\n",
    "y_true, y_pred = visualizer.get_preds(model=TRAINED_MODEL, dataloader=test_dataloader, device=device)\n",
    "visualizer.plot_all(y_true=y_true, y_pred=y_pred, classes=class_names, save_path=\"model_performance/plot.jpg\")"
   ]
  },
  {
   "cell_type": "code",
   "execution_count": 4,
   "metadata": {},
   "outputs": [
    {
     "data": {
      "text/plain": [
       "<All keys matched successfully>"
      ]
     },
     "execution_count": 4,
     "metadata": {},
     "output_type": "execute_result"
    }
   ],
   "source": [
    "import torch\n",
    "from torchvision.models import mobilenet_v2\n",
    "\n",
    "num_classes = 35\n",
    "model = mobilenet_v2(weights=None)\n",
    "model.classifier[1] = torch.nn.Linear(model.last_channel, num_classes)\n",
    "state_dict = torch.load(\"models/nums_alphs_35_mobilenetv2.pth\")\n",
    "model.load_state_dict(state_dict)"
   ]
  },
  {
   "cell_type": "code",
   "execution_count": null,
   "metadata": {},
   "outputs": [],
   "source": [
    "predictor = ComprehensiveImagePredictor(model, class_names, train_transforms)\n",
    "predictor.predict_and_visualize_multiple(model=model, directory=test_dir, transformer=train_transforms, num_samples=9, seed=None)\n",
    "\n",
    "file_path = r\"D:\\SignLanguage\\NOTEBOOKS\\DATASET\\test\\2\\C_2 (44).jpg\""
   ]
  },
  {
   "cell_type": "code",
   "execution_count": null,
   "metadata": {},
   "outputs": [],
   "source": [
    "evaluator = ModelEvaluator(model)\n",
    "results = evaluator.evaluate_and_report(test_dataloader, class_names)\n",
    "\n",
    "print(f\"Accuracy: {results['accuracy']:.4f}\")\n",
    "print(\"Classification Report:\")\n",
    "print(results['classification_report'])"
   ]
  },
  {
   "cell_type": "markdown",
   "metadata": {},
   "source": [
    "#### Prep model for Android"
   ]
  },
  {
   "cell_type": "markdown",
   "metadata": {},
   "source": [
    "#### Save for android"
   ]
  },
  {
   "cell_type": "code",
   "execution_count": null,
   "metadata": {},
   "outputs": [],
   "source": [
    "import torch\n",
    "import torchvision.models as models\n",
    "\n",
    "OUT_FEATURES = 35\n",
    "MODEL_PATH = \"models/nums_alphs_35_mobilenetv2.pth\"\n",
    "MODEL_NAME = \"mnetV2_35\"\n",
    "\n",
    "model = models.mobilenet_v2(pretrained=False)\n",
    "model.classifier[1] = torch.nn.Linear(in_features=1280, out_features=OUT_FEATURES)\n",
    "\n",
    "model.load_state_dict(torch.load(MODEL_PATH))\n",
    "\n",
    "model.eval()\n",
    "\n",
    "example_input = torch.rand(1, 3, 224, 224)  # Batch size 1, 3 channels, 224x224 pixels\n",
    "traced_model = torch.jit.trace(model, example_input)\n",
    "\n",
    "optimized_model = torch.utils.mobile_optimizer.optimize_for_mobile(traced_model)\n",
    "\n",
    "optimized_model._save_for_lite_interpreter(f\"models/{MODEL_NAME}.ptl\")\n"
   ]
  },
  {
   "cell_type": "code",
   "execution_count": 47,
   "metadata": {},
   "outputs": [
    {
     "name": "stdout",
     "output_type": "stream",
     "text": [
      "Output shape: torch.Size([1, 35])\n"
     ]
    }
   ],
   "source": [
    "import torch\n",
    "\n",
    "lite_model = torch.jit.load(f\"models/{MODEL_NAME}.ptl\")\n",
    "\n",
    "example_input = torch.rand(1, 3, 224, 224)  # Example input with the same size used for tracing\n",
    "output = lite_model(example_input)\n",
    "\n",
    "print(f\"Output shape: {output.shape}\")"
   ]
  }
 ],
 "metadata": {
  "kernelspec": {
   "display_name": ".venv",
   "language": "python",
   "name": "python3"
  },
  "language_info": {
   "codemirror_mode": {
    "name": "ipython",
    "version": 3
   },
   "file_extension": ".py",
   "mimetype": "text/x-python",
   "name": "python",
   "nbconvert_exporter": "python",
   "pygments_lexer": "ipython3",
   "version": "3.9.12"
  }
 },
 "nbformat": 4,
 "nbformat_minor": 2
}
